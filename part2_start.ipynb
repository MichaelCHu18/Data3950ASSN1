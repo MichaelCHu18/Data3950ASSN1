{
 "cells": [
  {
   "cell_type": "code",
   "execution_count": 15,
   "metadata": {},
   "outputs": [],
   "source": [
    "import pandas as pd\n",
    "import numpy as np\n",
    "\n",
    "from sklearn.model_selection import cross_val_score\n",
    "from sklearn.metrics import roc_auc_score\n",
    "from sklearn.metrics import accuracy_score\n",
    "from sklearn.model_selection import train_test_split\n",
    "from sklearn.tree import DecisionTreeClassifier\n",
    "from sklearn.preprocessing import StandardScaler\n",
    "from sklearn.pipeline import Pipeline\n",
    "from sklearn.model_selection import GridSearchCV\n",
    "from sklearn.preprocessing import MinMaxScaler\n",
    "from sklearn.ensemble import RandomForestClassifier\n",
    "\n",
    "\n",
    "##Seaborn for fancy plots. \n",
    "import matplotlib.pyplot as plt\n",
    "import seaborn as sns\n",
    "plt.rcParams[\"figure.figsize\"] = (8,8)"
   ]
  },
  {
   "cell_type": "markdown",
   "metadata": {},
   "source": [
    "## 3950 Assignment 1: Part 2\n",
    "\n",
    "For this assignment we want to use some sort of tree based model to classify the data below. We have a very small training set, so overfitting is a very real concern. \n",
    "\n",
    "Some specifics for this assignment:\n",
    "<ul>\n",
    "<li>Please use the show_eda to control if EDA stuff is shown. I don't really need to see all the EDA stuff (nor do you after you've done it), so we can make it configurable with a variable to speed up time. Please set this FALSE when you submit, so I can run all and see the outcome without histograms etc...\n",
    "<li>Please ensure that whatever model you end up with is in a variable named best at the end.\n",
    "<li>Please use some pipeline in prepping the data. The test data is in an identical format to the training data, so whatever pipeline you've created for your training will work for the testing. \n",
    "<li>The accuracy scoring will be an average of accuracy and roc_auc. \n",
    "</ul>\n",
    "\n",
    "### Grading Metrics\n",
    "<ul>\n",
    "<li><b>Pipeline Used - 10pts</b> The data loading needs to be in a pipeline. See the test part for illustration. When testing I'll call your pipe with the new data (format is identical to training), so any prep stuff should be in the pipeline. \n",
    "<li><b>Tree Based Model Used - 5pts</b> The model used for classification needs to be some variety of tree, beyond that it is up to you. \n",
    "<li><b>Accuracy - 5pts</b> The final accuracy acheived. This will be a rough ranking, I'm assuming most people will get a similar level of accuracy, marks will only be deducted if yours is far wosrse, as that's an indication that you probably didn't take any/many steps to improve things. \n",
    "<li><b>Clarity and Formatting - 5pts</b> Is it organized and can I read it?\n",
    "    <ul>\n",
    "    <li> <b>Note:</b> for this assignment, and in general, please get rid of my comments and replace them with your own. I'm going to read this, so all of these instructions aren't really required. Think of this as a template, get rid of the stuff that isn't needed, and leave only the things you need to explain your code. \n",
    "    </ul>\n",
    "</ul>\n",
    "\n",
    "For submission, please drop the URL for your repository in the dropbox."
   ]
  },
  {
   "cell_type": "code",
   "execution_count": 2,
   "metadata": {},
   "outputs": [],
   "source": [
    "#Please change to your name.\n",
    "name = \"Michael Huang\"\n",
    "\n",
    "#Please use this to control EDA. \n",
    "show_eda = False"
   ]
  },
  {
   "cell_type": "code",
   "execution_count": 3,
   "metadata": {},
   "outputs": [
    {
     "data": {
      "text/html": [
       "<div>\n",
       "<style scoped>\n",
       "    .dataframe tbody tr th:only-of-type {\n",
       "        vertical-align: middle;\n",
       "    }\n",
       "\n",
       "    .dataframe tbody tr th {\n",
       "        vertical-align: top;\n",
       "    }\n",
       "\n",
       "    .dataframe thead th {\n",
       "        text-align: right;\n",
       "    }\n",
       "</style>\n",
       "<table border=\"1\" class=\"dataframe\">\n",
       "  <thead>\n",
       "    <tr style=\"text-align: right;\">\n",
       "      <th></th>\n",
       "      <th>target</th>\n",
       "      <th>var_1</th>\n",
       "      <th>var_2</th>\n",
       "      <th>var_3</th>\n",
       "      <th>var_4</th>\n",
       "      <th>var_5</th>\n",
       "      <th>var_6</th>\n",
       "      <th>var_7</th>\n",
       "      <th>var_8</th>\n",
       "      <th>var_9</th>\n",
       "      <th>...</th>\n",
       "      <th>var_191</th>\n",
       "      <th>var_192</th>\n",
       "      <th>var_193</th>\n",
       "      <th>var_194</th>\n",
       "      <th>var_195</th>\n",
       "      <th>var_196</th>\n",
       "      <th>var_197</th>\n",
       "      <th>var_198</th>\n",
       "      <th>var_199</th>\n",
       "      <th>var_200</th>\n",
       "    </tr>\n",
       "  </thead>\n",
       "  <tbody>\n",
       "    <tr>\n",
       "      <th>184</th>\n",
       "      <td>0</td>\n",
       "      <td>0.850</td>\n",
       "      <td>0.982</td>\n",
       "      <td>0.457</td>\n",
       "      <td>0.361</td>\n",
       "      <td>0.853</td>\n",
       "      <td>0.199</td>\n",
       "      <td>0.385</td>\n",
       "      <td>0.092</td>\n",
       "      <td>0.367</td>\n",
       "      <td>...</td>\n",
       "      <td>0.194</td>\n",
       "      <td>0.446</td>\n",
       "      <td>0.456</td>\n",
       "      <td>0.568</td>\n",
       "      <td>0.494</td>\n",
       "      <td>0.871</td>\n",
       "      <td>0.460</td>\n",
       "      <td>0.968</td>\n",
       "      <td>0.307</td>\n",
       "      <td>0.633</td>\n",
       "    </tr>\n",
       "    <tr>\n",
       "      <th>245</th>\n",
       "      <td>1</td>\n",
       "      <td>0.392</td>\n",
       "      <td>0.953</td>\n",
       "      <td>0.263</td>\n",
       "      <td>0.290</td>\n",
       "      <td>0.522</td>\n",
       "      <td>0.326</td>\n",
       "      <td>0.103</td>\n",
       "      <td>0.137</td>\n",
       "      <td>0.133</td>\n",
       "      <td>...</td>\n",
       "      <td>0.739</td>\n",
       "      <td>0.308</td>\n",
       "      <td>0.881</td>\n",
       "      <td>0.762</td>\n",
       "      <td>0.003</td>\n",
       "      <td>0.566</td>\n",
       "      <td>0.205</td>\n",
       "      <td>0.740</td>\n",
       "      <td>0.469</td>\n",
       "      <td>0.223</td>\n",
       "    </tr>\n",
       "    <tr>\n",
       "      <th>8</th>\n",
       "      <td>1</td>\n",
       "      <td>0.531</td>\n",
       "      <td>0.511</td>\n",
       "      <td>0.160</td>\n",
       "      <td>0.383</td>\n",
       "      <td>0.389</td>\n",
       "      <td>0.787</td>\n",
       "      <td>0.034</td>\n",
       "      <td>0.901</td>\n",
       "      <td>0.666</td>\n",
       "      <td>...</td>\n",
       "      <td>0.608</td>\n",
       "      <td>0.712</td>\n",
       "      <td>0.135</td>\n",
       "      <td>0.102</td>\n",
       "      <td>0.180</td>\n",
       "      <td>0.946</td>\n",
       "      <td>0.837</td>\n",
       "      <td>0.031</td>\n",
       "      <td>0.533</td>\n",
       "      <td>0.713</td>\n",
       "    </tr>\n",
       "    <tr>\n",
       "      <th>77</th>\n",
       "      <td>0</td>\n",
       "      <td>0.170</td>\n",
       "      <td>0.082</td>\n",
       "      <td>0.481</td>\n",
       "      <td>0.819</td>\n",
       "      <td>0.384</td>\n",
       "      <td>0.390</td>\n",
       "      <td>0.954</td>\n",
       "      <td>0.455</td>\n",
       "      <td>0.563</td>\n",
       "      <td>...</td>\n",
       "      <td>0.497</td>\n",
       "      <td>0.531</td>\n",
       "      <td>0.723</td>\n",
       "      <td>0.701</td>\n",
       "      <td>0.793</td>\n",
       "      <td>0.381</td>\n",
       "      <td>0.210</td>\n",
       "      <td>0.379</td>\n",
       "      <td>0.594</td>\n",
       "      <td>0.719</td>\n",
       "    </tr>\n",
       "    <tr>\n",
       "      <th>54</th>\n",
       "      <td>0</td>\n",
       "      <td>0.212</td>\n",
       "      <td>0.235</td>\n",
       "      <td>0.682</td>\n",
       "      <td>0.736</td>\n",
       "      <td>0.580</td>\n",
       "      <td>0.464</td>\n",
       "      <td>0.244</td>\n",
       "      <td>0.548</td>\n",
       "      <td>0.895</td>\n",
       "      <td>...</td>\n",
       "      <td>0.907</td>\n",
       "      <td>0.375</td>\n",
       "      <td>0.474</td>\n",
       "      <td>0.104</td>\n",
       "      <td>0.118</td>\n",
       "      <td>0.297</td>\n",
       "      <td>0.284</td>\n",
       "      <td>0.193</td>\n",
       "      <td>0.539</td>\n",
       "      <td>0.222</td>\n",
       "    </tr>\n",
       "  </tbody>\n",
       "</table>\n",
       "<p>5 rows × 201 columns</p>\n",
       "</div>"
      ],
      "text/plain": [
       "     target  var_1  var_2  var_3  var_4  var_5  var_6  var_7  var_8  var_9  \\\n",
       "184       0  0.850  0.982  0.457  0.361  0.853  0.199  0.385  0.092  0.367   \n",
       "245       1  0.392  0.953  0.263  0.290  0.522  0.326  0.103  0.137  0.133   \n",
       "8         1  0.531  0.511  0.160  0.383  0.389  0.787  0.034  0.901  0.666   \n",
       "77        0  0.170  0.082  0.481  0.819  0.384  0.390  0.954  0.455  0.563   \n",
       "54        0  0.212  0.235  0.682  0.736  0.580  0.464  0.244  0.548  0.895   \n",
       "\n",
       "     ...  var_191  var_192  var_193  var_194  var_195  var_196  var_197  \\\n",
       "184  ...    0.194    0.446    0.456    0.568    0.494    0.871    0.460   \n",
       "245  ...    0.739    0.308    0.881    0.762    0.003    0.566    0.205   \n",
       "8    ...    0.608    0.712    0.135    0.102    0.180    0.946    0.837   \n",
       "77   ...    0.497    0.531    0.723    0.701    0.793    0.381    0.210   \n",
       "54   ...    0.907    0.375    0.474    0.104    0.118    0.297    0.284   \n",
       "\n",
       "     var_198  var_199  var_200  \n",
       "184    0.968    0.307    0.633  \n",
       "245    0.740    0.469    0.223  \n",
       "8      0.031    0.533    0.713  \n",
       "77     0.379    0.594    0.719  \n",
       "54     0.193    0.539    0.222  \n",
       "\n",
       "[5 rows x 201 columns]"
      ]
     },
     "execution_count": 3,
     "metadata": {},
     "output_type": "execute_result"
    }
   ],
   "source": [
    "df = pd.read_csv(\"training.csv\")\n",
    "df = df.drop(columns={\"id\"})\n",
    "df.sample(5)"
   ]
  },
  {
   "cell_type": "markdown",
   "metadata": {},
   "source": [
    "### Starting\n",
    "\n",
    "For this assignment, you have a small training set, so combatting overfitting is key in being accurate!"
   ]
  },
  {
   "cell_type": "code",
   "execution_count": 4,
   "metadata": {},
   "outputs": [
    {
     "data": {
      "text/plain": [
       "(250, 201)"
      ]
     },
     "execution_count": 4,
     "metadata": {},
     "output_type": "execute_result"
    }
   ],
   "source": [
    "df.shape"
   ]
  },
  {
   "cell_type": "markdown",
   "metadata": {},
   "source": [
    "#### Do Modelling Stuff\n",
    "\n",
    "Make a tree model (of some variety) and make it fit well. Keep in mind the possibility of your tree overfitting, and think of steps you may need to combat that should it occur. "
   ]
  },
  {
   "cell_type": "code",
   "execution_count": 16,
   "metadata": {},
   "outputs": [],
   "source": [
    "y = np.array(df[\"target\"]).reshape(-1,1)\n",
    "X = np.array(df.drop(columns={\"target\"}))\n",
    "X_train, X_test, y_train, y_test = train_test_split(X, y, random_state=0)\n",
    "\n",
    "pipe_rf = Pipeline([\n",
    "    (\"scaler\", StandardScaler()),\n",
    "    (\"classifier\", RandomForestClassifier(random_state=0))\n",
    "])\n",
    "\n",
    "param_grid_rf = {\n",
    "    \"classifier__n_estimators\": [100, 125],  \n",
    "    \"classifier__max_depth\": [8, 9, 10],  \n",
    "    \"classifier__min_samples_leaf\": [2,3],  \n",
    "    \"classifier__min_samples_split\": [2, 3, 4, 5, 6, 7, 8, 9],  \n",
    "    \"classifier__max_features\": ['sqrt', 'log2', 0.5],\n",
    "    'classifier__criterion':[\"entropy\"]\n",
    "}\n",
    "\n",
    "\n",
    "\n",
    "clf_rf = GridSearchCV(pipe_rf, param_grid=param_grid_rf, cv=5, n_jobs=-1)\n",
    "clf_rf.fit(X_train, y_train.ravel())\n",
    "best = clf_rf.best_estimator_"
   ]
  },
  {
   "cell_type": "markdown",
   "metadata": {},
   "source": [
    "### Finishing\n",
    "\n",
    "At the conclusion, please name your best model \"best\". If you look down below in the testing stuff, it should be usable to score as \"best\". \n",
    "\n",
    "You should be able to call it like this and it should work (with whatever data names you have)"
   ]
  },
  {
   "cell_type": "code",
   "execution_count": 13,
   "metadata": {},
   "outputs": [
    {
     "name": "stdout",
     "output_type": "stream",
     "text": [
      "0.7619047619047619\n",
      "Pipeline(steps=[('scaler', StandardScaler()),\n",
      "                ('classifier',\n",
      "                 RandomForestClassifier(criterion='entropy', max_depth=10,\n",
      "                                        max_features='log2', min_samples_leaf=3,\n",
      "                                        min_samples_split=9, n_estimators=125,\n",
      "                                        random_state=0))])\n"
     ]
    }
   ],
   "source": [
    "print(best.score(X_test, y_test))\n",
    "print(best)"
   ]
  },
  {
   "cell_type": "markdown",
   "metadata": {},
   "source": [
    "### Testing\n",
    "\n",
    "Please leave the stuff below as-is in your file. \n",
    "\n",
    "This will take your best model and score it with the test data. If you want to test to make sure that yours works, make a copy of the data file and rename it testing.csv, then make sure this runs ok. I will do the same, but the contents of my test file will be different. "
   ]
  },
  {
   "cell_type": "code",
   "execution_count": 18,
   "metadata": {},
   "outputs": [
    {
     "name": "stdout",
     "output_type": "stream",
     "text": [
      "0.6368744160417875\n",
      "0.6364050632911392\n",
      "Michael Huang 0.6366397396664634\n"
     ]
    }
   ],
   "source": [
    "#Load Test Data\n",
    "test_df = pd.read_csv(\"testing.csv\")\n",
    "test_df = test_df.drop(columns={\"id\"})\n",
    "#Create tests and score\n",
    "test_y = np.array(test_df[\"target\"]).reshape(-1,1)\n",
    "test_X = np.array(test_df.drop(columns={\"target\"}))\n",
    "\n",
    "preds = best.predict(test_X)\n",
    "\n",
    "roc_score = roc_auc_score(test_y, preds)\n",
    "acc_score = accuracy_score(test_y, preds)\n",
    "\n",
    "print(roc_score)\n",
    "print(acc_score)\n",
    "print(name, np.mean([roc_score, acc_score]))\n"
   ]
  },
  {
   "cell_type": "markdown",
   "metadata": {},
   "source": [
    "### What Accuracy Changes Were Used\n",
    "\n",
    "Please list here what you did to try to increase accuracy and/or limit overfitting:\n",
    "<ul>\n",
    "<li> Tried random state numbers\n",
    "<li> Tried different gridsearches\n",
    "<li> Changed it to a forest instead of a tree\n",
    "</ul>"
   ]
  },
  {
   "cell_type": "markdown",
   "metadata": {},
   "source": []
  }
 ],
 "metadata": {
  "interpreter": {
   "hash": "4d722d3adfa415172c1f5238b519fb86b488acdae450fd691ab06c09f4ca9173"
  },
  "kernelspec": {
   "display_name": "Python 3 (ipykernel)",
   "language": "python",
   "name": "python3"
  },
  "language_info": {
   "codemirror_mode": {
    "name": "ipython",
    "version": 3
   },
   "file_extension": ".py",
   "mimetype": "text/x-python",
   "name": "python",
   "nbconvert_exporter": "python",
   "pygments_lexer": "ipython3",
   "version": "3.11.4"
  }
 },
 "nbformat": 4,
 "nbformat_minor": 2
}
